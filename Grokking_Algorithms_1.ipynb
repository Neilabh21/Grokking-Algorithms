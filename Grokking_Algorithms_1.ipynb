{
  "nbformat": 4,
  "nbformat_minor": 0,
  "metadata": {
    "colab": {
      "name": "Grokking Algorithms - 1.ipynb",
      "provenance": [],
      "include_colab_link": true
    },
    "kernelspec": {
      "name": "python3",
      "display_name": "Python 3"
    },
    "language_info": {
      "name": "python"
    }
  },
  "cells": [
    {
      "cell_type": "markdown",
      "metadata": {
        "id": "view-in-github",
        "colab_type": "text"
      },
      "source": [
        "<a href=\"https://colab.research.google.com/github/Neilabh21/Grokking-Algorithms/blob/main/Grokking_Algorithms_1.ipynb\" target=\"_parent\"><img src=\"https://colab.research.google.com/assets/colab-badge.svg\" alt=\"Open In Colab\"/></a>"
      ]
    },
    {
      "cell_type": "markdown",
      "metadata": {
        "id": "ODRZbIJmUITY"
      },
      "source": [
        "# Grokking Algorithms by Aditya Bhargava"
      ]
    },
    {
      "cell_type": "markdown",
      "metadata": {
        "id": "B1Kcy1LeUXDs"
      },
      "source": [
        "## Chapter 1 - Introduction to algorithms"
      ]
    },
    {
      "cell_type": "markdown",
      "metadata": {
        "id": "rixE55YcUcJW"
      },
      "source": [
        "### Binary Search\n",
        "- $O(log_2 n)$\n",
        "- Inputs\n",
        "  - Sorted List\n",
        "  - An item\n",
        "- Outputs\n",
        "  - Index (If the item is in the list)\n",
        "  - None (If the item is not in the list)"
      ]
    },
    {
      "cell_type": "code",
      "metadata": {
        "id": "HZ6S-EjYUWtN"
      },
      "source": [
        "def binary_search(list, item):\n",
        "  low = 0\n",
        "  high = len(list) — 1\n",
        "  \n",
        "  while low <= high:\n",
        "    mid = (low + high)\n",
        "    guess = list[mid]\n",
        "    if guess == item:\n",
        "      return mid\n",
        "    if guess > item:\n",
        "      high = mid - 1\n",
        "    else:\n",
        "      low = mid + 1\n",
        "  return None"
      ],
      "execution_count": null,
      "outputs": []
    },
    {
      "cell_type": "code",
      "metadata": {
        "id": "5Oj6Ay5cUErL"
      },
      "source": [
        ""
      ],
      "execution_count": null,
      "outputs": []
    }
  ]
}